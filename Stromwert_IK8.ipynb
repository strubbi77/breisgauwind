{
 "cells": [
  {
   "cell_type": "code",
   "execution_count": 36,
   "id": "dac4c307-e22e-4fe3-8c6a-4f4f375c0a5b",
   "metadata": {},
   "outputs": [],
   "source": [
    "import pandas as pd\n",
    "\n",
    "names=['Datum(UTC)','Nicht Erneuerbar (MW)', 'Erneuerbar (MW)', 'DE-LU Day Ahead EUR/MWh']\n",
    "DayAheadPrices=pd.read_csv(\"Daten entsoe/energy-charts_Stromproduktion_und_Börsenstrompreise_in_Deutschland_2024.csv\",skiprows=2,names=names)"
   ]
  },
  {
   "cell_type": "code",
   "execution_count": 37,
   "id": "c1800f3d-e3b2-4192-8e5f-f3ae691c6ea4",
   "metadata": {},
   "outputs": [],
   "source": [
    "#preis_menge=DayAheadPrices\n",
    "DayAheadPrices['datum']=pd.to_datetime(DayAheadPrices['Datum(UTC)'])\n",
    "DayAheadPrices=DayAheadPrices.set_index('datum')\n",
    "preis_menge=DayAheadPrices"
   ]
  },
  {
   "cell_type": "code",
   "execution_count": 38,
   "id": "c24588c0-f7f2-4ff5-9133-b4f9c14ba745",
   "metadata": {},
   "outputs": [],
   "source": [
    "names=['Datum','Jahr', 'Monat', 'Tag','PV IK8']\n",
    "IKPV=pd.read_csv(\"Daten IK8/2024 PV Daily.csv\",skiprows=1,names=names,sep=';',decimal=',',parse_dates=['Datum'],date_format='%d.%m.%Y').fillna(0)\n",
    "IKPV=IKPV.drop(columns=['Jahr', 'Monat', 'Tag'])\n",
    "IKPV=IKPV.set_index('Datum')"
   ]
  },
  {
   "cell_type": "code",
   "execution_count": 39,
   "id": "d08b3b2c-f3f2-4fe0-b40d-8593c42db3fa",
   "metadata": {},
   "outputs": [],
   "source": [
    "IKStrom=pd.read_csv(\"Daten IK8/2024 Hist Strom.csv\",date_format='ISO8601',parse_dates=True,decimal='.')\n",
    "IKStrom['last_changed dt']=pd.to_datetime(IKStrom['last_changed']).dt.floor('h')\n",
    "IKStrom=IKStrom.set_index('last_changed dt')\n",
    "ent_filter=['sensor.haushalt_positive_active_energy_total','sensor.haushalt_negative_active_energy_total','sensor.waermepumpe_positive_active_energy_total','sensor.waermepumpe_negative_active_energy_total']\n",
    "IKStrom=IKStrom[IKStrom['entity_id'].isin(ent_filter)]\n",
    "IKStrom['state']=pd.to_numeric(IKStrom['state'])\n",
    "IKStrom=IKStrom.groupby('entity_id').resample('h')['state'].agg(['min']).ffill()\n",
    "IKStrom=IKStrom.reset_index().pivot(index=['last_changed dt'],columns='entity_id',values='min')\n",
    "IKStrom=IKStrom.ffill()"
   ]
  },
  {
   "cell_type": "code",
   "execution_count": 40,
   "id": "0d1426c6-53c7-407c-a577-808f548d92a0",
   "metadata": {},
   "outputs": [],
   "source": [
    "preis_menge[['Haus H','Haus S','WP H','WP S']]=IKStrom.diff().shift(-1).fillna(0)\n",
    "#preis_menge['WP PV']=preis_menge['Haus H']-preis_menge['WP H']\n"
   ]
  },
  {
   "cell_type": "code",
   "execution_count": 182,
   "id": "8009585a-6d6b-4caa-9b45-e8bec97d9eb0",
   "metadata": {},
   "outputs": [
    {
     "name": "stdout",
     "output_type": "stream",
     "text": [
      "421\n"
     ]
    }
   ],
   "source": [
    "cnt = 0\n",
    "gap_cnt=0\n",
    "gap=[]\n",
    "cols=['WP S','WP H']\n",
    "names=['Uhrzeit','kW']\n",
    "#cols=['Haus S','Haus H']\n",
    "#gap_save=[]\n",
    "for index,row in preis_menge.iterrows():\n",
    "    sv=\"\"\n",
    "    #sm = row['Haus S']+row['Haus H']\n",
    "    sm = row[cols[0]]+row[cols[1]]\n",
    "    if sm == 0:\n",
    "        #print(index)\n",
    "        cnt +=1\n",
    "        gap_cnt += 1\n",
    "        gap=gap+[index]\n",
    "    else:\n",
    "        if len(gap)>0:\n",
    "            #print(index,gap_cnt,cnt)\n",
    "            day_before_gap=min(gap).floor('d')-pd.DateOffset(days=1)\n",
    "            filler=preis_menge[preis_menge.index.dayofyear==day_before_gap.dayofyear]\n",
    "\n",
    "            gap_df=pd.DataFrame(gap,columns=['Datum'])\n",
    "            gap_days=pd.DataFrame(gap_df['Datum'].dt.date.unique(),columns=['Datum']).set_index('Datum')\n",
    "            gap_days['PV IK8']=IKPV['PV IK8']\n",
    "            \n",
    "            # Wieviele % und wie viel PW muss insgesamt auf den Tag verteilt werden\n",
    "\n",
    "            #li_pro_kw=[]\n",
    "            for gd_index,gd_row in gap_days.iterrows():\n",
    "                #print()\n",
    "                r=gd_index\n",
    "                miss_IK_PV=pd.read_csv(\"Daten IK8/Wechselrichter_Tag_{}-{:02d}-{:02d}.csv\".format(r.year,r.month,r.day),names=names,sep=';',decimal=',',skiprows=1)\n",
    "            \n",
    "            for fill_up in gap:\n",
    "                for app in cols:\n",
    "                    None\n",
    "                    pct=filler[filler.index.hour==fill_up.hour][app]/sum(filler[app])\n",
    "            \n",
    "            save_gap=gap\n",
    "            save_row=row\n",
    "            gap=[]\n",
    "            gap_cnt=0\n",
    "            #print(row)\n",
    "            #print(gap_days)\n",
    "print(cnt)"
   ]
  },
  {
   "cell_type": "code",
   "execution_count": 146,
   "id": "25957db7-4e51-4c50-a869-282f6e571ef1",
   "metadata": {},
   "outputs": [],
   "source": [
    "gap_days=pd.DataFrame(gap_df['Datum'].dt.date.unique(),columns=['Datum']).set_index('Datum')"
   ]
  },
  {
   "cell_type": "code",
   "execution_count": 183,
   "id": "fe101cb8-1e37-4f4f-88f7-43e73cf6907f",
   "metadata": {},
   "outputs": [
    {
     "data": {
      "text/html": [
       "<div>\n",
       "<style scoped>\n",
       "    .dataframe tbody tr th:only-of-type {\n",
       "        vertical-align: middle;\n",
       "    }\n",
       "\n",
       "    .dataframe tbody tr th {\n",
       "        vertical-align: top;\n",
       "    }\n",
       "\n",
       "    .dataframe thead th {\n",
       "        text-align: right;\n",
       "    }\n",
       "</style>\n",
       "<table border=\"1\" class=\"dataframe\">\n",
       "  <thead>\n",
       "    <tr style=\"text-align: right;\">\n",
       "      <th></th>\n",
       "      <th>Uhrzeit</th>\n",
       "      <th>kW</th>\n",
       "    </tr>\n",
       "  </thead>\n",
       "  <tbody>\n",
       "    <tr>\n",
       "      <th>0</th>\n",
       "      <td>00:15</td>\n",
       "      <td>0.0</td>\n",
       "    </tr>\n",
       "    <tr>\n",
       "      <th>1</th>\n",
       "      <td>00:30</td>\n",
       "      <td>0.0</td>\n",
       "    </tr>\n",
       "    <tr>\n",
       "      <th>2</th>\n",
       "      <td>00:45</td>\n",
       "      <td>0.0</td>\n",
       "    </tr>\n",
       "    <tr>\n",
       "      <th>3</th>\n",
       "      <td>01:00</td>\n",
       "      <td>0.0</td>\n",
       "    </tr>\n",
       "    <tr>\n",
       "      <th>4</th>\n",
       "      <td>01:15</td>\n",
       "      <td>0.0</td>\n",
       "    </tr>\n",
       "    <tr>\n",
       "      <th>...</th>\n",
       "      <td>...</td>\n",
       "      <td>...</td>\n",
       "    </tr>\n",
       "    <tr>\n",
       "      <th>91</th>\n",
       "      <td>23:00</td>\n",
       "      <td>0.0</td>\n",
       "    </tr>\n",
       "    <tr>\n",
       "      <th>92</th>\n",
       "      <td>23:15</td>\n",
       "      <td>0.0</td>\n",
       "    </tr>\n",
       "    <tr>\n",
       "      <th>93</th>\n",
       "      <td>23:30</td>\n",
       "      <td>0.0</td>\n",
       "    </tr>\n",
       "    <tr>\n",
       "      <th>94</th>\n",
       "      <td>23:45</td>\n",
       "      <td>0.0</td>\n",
       "    </tr>\n",
       "    <tr>\n",
       "      <th>95</th>\n",
       "      <td>00:00</td>\n",
       "      <td>0.0</td>\n",
       "    </tr>\n",
       "  </tbody>\n",
       "</table>\n",
       "<p>96 rows × 2 columns</p>\n",
       "</div>"
      ],
      "text/plain": [
       "   Uhrzeit   kW\n",
       "0    00:15  0.0\n",
       "1    00:30  0.0\n",
       "2    00:45  0.0\n",
       "3    01:00  0.0\n",
       "4    01:15  0.0\n",
       "..     ...  ...\n",
       "91   23:00  0.0\n",
       "92   23:15  0.0\n",
       "93   23:30  0.0\n",
       "94   23:45  0.0\n",
       "95   00:00  0.0\n",
       "\n",
       "[96 rows x 2 columns]"
      ]
     },
     "execution_count": 183,
     "metadata": {},
     "output_type": "execute_result"
    }
   ],
   "source": [
    "miss_IK_PV"
   ]
  },
  {
   "cell_type": "code",
   "execution_count": 176,
   "id": "20137f59-e9c1-4e62-bd2e-be26769a5e72",
   "metadata": {},
   "outputs": [
    {
     "data": {
      "text/plain": [
       "'Daten IK8/Wechselrichter_Tag_2024-05-17.csv'"
      ]
     },
     "execution_count": 176,
     "metadata": {},
     "output_type": "execute_result"
    }
   ],
   "source": [
    "\"Daten IK8/Wechselrichter_Tag_{}-{:02d}-{:02d}.csv\".format(r.year,r.month,r.day)"
   ]
  },
  {
   "cell_type": "code",
   "execution_count": 91,
   "id": "1b15c241-d95b-48bc-9d8a-d4079d07ce63",
   "metadata": {},
   "outputs": [
    {
     "data": {
      "text/plain": [
       "datum\n",
       "2024-12-28 14:00:00+00:00    0.014287\n",
       "Name: Haus H, dtype: float64"
      ]
     },
     "execution_count": 91,
     "metadata": {},
     "output_type": "execute_result"
    }
   ],
   "source": [
    "filler[filler.index.hour==14]['Haus H']/sum(filler['Haus H'])"
   ]
  },
  {
   "cell_type": "code",
   "execution_count": 117,
   "id": "9f5ea860-dcfb-4c4f-89eb-ccc5314e6d86",
   "metadata": {},
   "outputs": [
    {
     "ename": "ModuleNotFoundError",
     "evalue": "No module named 'timestamp'",
     "output_type": "error",
     "traceback": [
      "\u001b[1;31m---------------------------------------------------------------------------\u001b[0m",
      "\u001b[1;31mModuleNotFoundError\u001b[0m                       Traceback (most recent call last)",
      "Cell \u001b[1;32mIn[117], line 1\u001b[0m\n\u001b[1;32m----> 1\u001b[0m \u001b[38;5;28;01mimport\u001b[39;00m \u001b[38;5;21;01mtimestamp\u001b[39;00m\n",
      "\u001b[1;31mModuleNotFoundError\u001b[0m: No module named 'timestamp'"
     ]
    }
   ],
   "source": [
    "import timestamp"
   ]
  },
  {
   "cell_type": "code",
   "execution_count": 116,
   "id": "5e44b52e-89b0-4cbd-b3b8-311cb6932bcb",
   "metadata": {},
   "outputs": [
    {
     "data": {
      "text/plain": [
       "['__add__',\n",
       " '__array_priority__',\n",
       " '__class__',\n",
       " '__delattr__',\n",
       " '__dict__',\n",
       " '__dir__',\n",
       " '__doc__',\n",
       " '__eq__',\n",
       " '__format__',\n",
       " '__ge__',\n",
       " '__getattribute__',\n",
       " '__getstate__',\n",
       " '__gt__',\n",
       " '__hash__',\n",
       " '__init__',\n",
       " '__init_subclass__',\n",
       " '__le__',\n",
       " '__lt__',\n",
       " '__module__',\n",
       " '__ne__',\n",
       " '__new__',\n",
       " '__pyx_vtable__',\n",
       " '__radd__',\n",
       " '__reduce__',\n",
       " '__reduce_cython__',\n",
       " '__reduce_ex__',\n",
       " '__repr__',\n",
       " '__rsub__',\n",
       " '__setattr__',\n",
       " '__setstate__',\n",
       " '__setstate_cython__',\n",
       " '__sizeof__',\n",
       " '__str__',\n",
       " '__sub__',\n",
       " '__subclasshook__',\n",
       " '__weakref__',\n",
       " '_creso',\n",
       " '_date_repr',\n",
       " '_from_dt64',\n",
       " '_from_value_and_reso',\n",
       " '_repr_base',\n",
       " '_round',\n",
       " '_time_repr',\n",
       " '_value',\n",
       " 'as_unit',\n",
       " 'asm8',\n",
       " 'astimezone',\n",
       " 'ceil',\n",
       " 'combine',\n",
       " 'ctime',\n",
       " 'date',\n",
       " 'day',\n",
       " 'day_name',\n",
       " 'day_of_week',\n",
       " 'day_of_year',\n",
       " 'dayofweek',\n",
       " 'dayofyear',\n",
       " 'days_in_month',\n",
       " 'daysinmonth',\n",
       " 'dst',\n",
       " 'floor',\n",
       " 'fold',\n",
       " 'fromisocalendar',\n",
       " 'fromisoformat',\n",
       " 'fromordinal',\n",
       " 'fromtimestamp',\n",
       " 'hour',\n",
       " 'is_leap_year',\n",
       " 'is_month_end',\n",
       " 'is_month_start',\n",
       " 'is_quarter_end',\n",
       " 'is_quarter_start',\n",
       " 'is_year_end',\n",
       " 'is_year_start',\n",
       " 'isocalendar',\n",
       " 'isoformat',\n",
       " 'isoweekday',\n",
       " 'max',\n",
       " 'microsecond',\n",
       " 'min',\n",
       " 'minute',\n",
       " 'month',\n",
       " 'month_name',\n",
       " 'nanosecond',\n",
       " 'normalize',\n",
       " 'now',\n",
       " 'quarter',\n",
       " 'replace',\n",
       " 'resolution',\n",
       " 'round',\n",
       " 'second',\n",
       " 'strftime',\n",
       " 'strptime',\n",
       " 'time',\n",
       " 'timestamp',\n",
       " 'timetuple',\n",
       " 'timetz',\n",
       " 'to_datetime64',\n",
       " 'to_julian_date',\n",
       " 'to_numpy',\n",
       " 'to_period',\n",
       " 'to_pydatetime',\n",
       " 'today',\n",
       " 'toordinal',\n",
       " 'tz',\n",
       " 'tz_convert',\n",
       " 'tz_localize',\n",
       " 'tzinfo',\n",
       " 'tzname',\n",
       " 'unit',\n",
       " 'utcfromtimestamp',\n",
       " 'utcnow',\n",
       " 'utcoffset',\n",
       " 'utctimetuple',\n",
       " 'value',\n",
       " 'week',\n",
       " 'weekday',\n",
       " 'weekofyear',\n",
       " 'year']"
      ]
     },
     "execution_count": 116,
     "metadata": {},
     "output_type": "execute_result"
    }
   ],
   "source": [
    "dir(pd.Timestamp)"
   ]
  },
  {
   "cell_type": "code",
   "execution_count": null,
   "id": "0dd8c34f-bad9-4000-b64b-7a75e394c87b",
   "metadata": {},
   "outputs": [],
   "source": []
  }
 ],
 "metadata": {
  "kernelspec": {
   "display_name": "Python 3 (ipykernel)",
   "language": "python",
   "name": "python3"
  },
  "language_info": {
   "codemirror_mode": {
    "name": "ipython",
    "version": 3
   },
   "file_extension": ".py",
   "mimetype": "text/x-python",
   "name": "python",
   "nbconvert_exporter": "python",
   "pygments_lexer": "ipython3",
   "version": "3.12.5"
  }
 },
 "nbformat": 4,
 "nbformat_minor": 5
}
