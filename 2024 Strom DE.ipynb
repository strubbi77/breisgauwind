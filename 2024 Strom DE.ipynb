{
 "cells": [
  {
   "cell_type": "code",
   "execution_count": 1,
   "id": "ac285a6b-057d-4569-83ab-0e514e476a40",
   "metadata": {},
   "outputs": [],
   "source": [
    "import pandas as pd\n",
    "import numpy as np\n",
    "\n",
    "Strompreis=pd.read_csv(\"Daten entsoe/Gro_handelspreise_202311010000_202502010000_Stunde.csv\",na_values='-',header=0 ,sep=';', decimal=\",\", thousands=\".\")"
   ]
  },
  {
   "cell_type": "code",
   "execution_count": 2,
   "id": "d62564e8-a6a2-4ae9-94eb-5b4e1ee85ea0",
   "metadata": {},
   "outputs": [],
   "source": [
    "Strompreis['Datum']=pd.to_datetime(Strompreis['Datum von'],format='%d.%m.%Y %H:%M')\n",
    "Strompreis=Strompreis.sort_values('Datum',kind='stable')\n",
    "Strompreis['Datum']=pd.to_datetime(Strompreis['Datum von'],format='%d.%m.%Y %H:%M')\n",
    "Strompreis['Datum']=Strompreis['Datum'].dt.tz_localize('Europe/Berlin',ambiguous='infer')\n",
    "Strompreis['Date']=Strompreis['Datum'].dt.tz_convert('UTC')\n",
    "Strompreis=Strompreis.set_index('Date')"
   ]
  },
  {
   "cell_type": "code",
   "execution_count": 3,
   "id": "8a4250f6-0d25-4143-ab53-1f58da788658",
   "metadata": {},
   "outputs": [],
   "source": [
    "datei=\"Daten entsoe/Physikalischer_Stromfluss_202311010000_202502010000_Viertelstunde.csv\"\n",
    "dtype={'Datum von':\"string\",'Datum bis':\"string\"\n",
    "       ,'Nettoexport [MWh] Originalauflösungen':np.float64\n",
    "       ,'Niederlande (Export) [MWh] Originalauflösungen':np.float64\n",
    "       ,'Niederlande (Import) [MWh] Originalauflösungen':np.float64\n",
    "       ,'Schweiz (Export) [MWh] Originalauflösungen':np.float64\n",
    "       ,'Schweiz (Import) [MWh] Originalauflösungen':np.float64\n",
    "       ,'Dänemark (Export) [MWh] Originalauflösungen':np.float64\n",
    "       ,'Dänemark (Import) [MWh] Originalauflösungen':np.float64\n",
    "       ,'Tschechien (Export) [MWh] Originalauflösungen':np.float64\n",
    "       ,'Tschechien (Import) [MWh] Originalauflösungen':np.float64\n",
    "       ,'Luxemburg (Export) [MWh] Originalauflösungen':np.float64\n",
    "       ,'Luxemburg (Import) [MWh] Originalauflösungen':np.float64\n",
    "       ,'Schweden (Export) [MWh] Originalauflösungen':np.float64\n",
    "       ,'Schweden (Import) [MWh] Originalauflösungen':np.float64\n",
    "       ,'Österreich (Export) [MWh] Originalauflösungen':np.float64\n",
    "       ,'Österreich (Import) [MWh] Originalauflösungen':np.float64\n",
    "       ,'Frankreich (Export) [MWh] Originalauflösungen':np.float64\n",
    "       ,'Frankreich (Import) [MWh] Originalauflösungen':np.float64\n",
    "       ,'Polen (Export) [MWh] Originalauflösungen':np.float64\n",
    "       ,'Polen (Import) [MWh] Originalauflösungen':np.float64\n",
    "       ,'Norwegen (Export) [MWh] Originalauflösungen':np.float64\n",
    "       ,'Norwegen (Import) [MWh] Originalauflösungen':np.float64\n",
    "       ,'Belgien (Export) [MWh] Originalauflösungen':np.float64\n",
    "       ,'Belgien (Import) [MWh] Originalauflösungen':np.float64}\n",
    "\n",
    "\n",
    "#Stromfluss=pd.read_csv(\"Daten entsoe/Physikalischer_Stromfluss_202311010000_202502010000_Viertelstunde.csv\",sep=';', decimal=\",\", thousands=\".\",dtype=dtype,on_bad_lines='skip')\n",
    "Stromfluss=pd.read_csv(datei,sep=';', decimal=\",\", thousands=\".\",header=0,na_values='-',on_bad_lines='skip')"
   ]
  },
  {
   "cell_type": "code",
   "execution_count": 4,
   "id": "1fddfd6a-aeaa-4d66-8a66-99c9e4143b53",
   "metadata": {},
   "outputs": [],
   "source": [
    "Stromfluss['Datum']=pd.to_datetime(Stromfluss['Datum von'],format='%d.%m.%Y %H:%M')\n",
    "#Stromfluss=Stromfluss.sort_values('Datum',kind='stable')\n",
    "Stromfluss['Datum']=pd.to_datetime(Stromfluss['Datum von'],format='%d.%m.%Y %H:%M')\n",
    "Stromfluss['Datum']=Stromfluss['Datum'].dt.tz_localize('Europe/Berlin',ambiguous='infer')\n",
    "Stromfluss['Date']=Stromfluss['Datum'].dt.tz_convert('UTC')\n",
    "Stromfluss=Stromfluss[Stromfluss['Date'].dt.year==2024]\n",
    "Stromfluss=Stromfluss.set_index('Date').fillna(0)\n",
    "pm_cat=Stromfluss['Nettoexport [MWh] Originalauflösungen']\n",
    "Stromfluss['+-']=(np.where(pm_cat<0,'0: Import','1: Export'))\n",
    "Strompreis=Strompreis.reindex(Stromfluss.index).ffill()\n",
    "#Stromfluss.rename(columns={'Nettoexport [MWh] Originalauflösungen':'Nettoexport [TWh]'})\n",
    "Stromfluss['Preis']=Strompreis['Deutschland/Luxemburg [€/MWh] Originalauflösungen']\n",
    "Stromfluss['Nettoexport [TWh]']=Stromfluss['Nettoexport [MWh] Originalauflösungen']/1000000\n",
    "Stromfluss['Wert Mio €']=Stromfluss['Preis']*Stromfluss['Nettoexport [MWh] Originalauflösungen']/1000000\n",
    "#Stromfluss=Stromfluss.set_index('Date')"
   ]
  },
  {
   "cell_type": "code",
   "execution_count": 22,
   "id": "af2360e8-d1ae-457f-b582-a68b7d35266e",
   "metadata": {},
   "outputs": [],
   "source": [
    "# funktioniert: \n",
    "#Stromfluss.groupby([Stromfluss.index.month,Stromfluss['+-']])[['Nettoexport [TWh]','Wert Mio €']].agg(['sum'])\n",
    "df=Stromfluss.reset_index()\n",
    "df['Monat']=df['Date'].dt.month\n",
    "df['Jahr']=df['Date'].dt.year\n",
    "Strom=pd.pivot_table(df,index='Monat', columns=['+-'],values=['Wert Mio €','Nettoexport [TWh]'], aggfunc='sum',margins=True,margins_name='2024')"
   ]
  },
  {
   "cell_type": "code",
   "execution_count": 23,
   "id": "3fced914-fb51-41ee-ac89-9d64cce73d79",
   "metadata": {},
   "outputs": [],
   "source": [
    "#Strom['Durchschnittspreis [€/MWh]','0: Import']=Strom['Wert Mio €']['0: Import']/Strom['Nettoexport [TWh]']['0: Import']\n",
    "#Strom['Durchschnittspreis [€/MWh]','1: Export']=Strom['Wert Mio €']['1: Export']/Strom['Nettoexport [TWh]']['1: Export']\n",
    "Strom=Strom.join(Strom[['Wert Mio €']].div(Strom['Nettoexport [TWh]']).rename(columns={'Wert Mio €':'Durchschnittspreis [€/MWh]'}))\n",
    "Strom=Strom.drop(columns=('Durchschnittspreis [€/MWh]','2024'), axis=1)"
   ]
  },
  {
   "cell_type": "code",
   "execution_count": 24,
   "id": "8ff38951-03fe-4c65-93ec-a82bf273acf5",
   "metadata": {},
   "outputs": [
    {
     "data": {
      "text/html": [
       "<div>\n",
       "<style scoped>\n",
       "    .dataframe tbody tr th:only-of-type {\n",
       "        vertical-align: middle;\n",
       "    }\n",
       "\n",
       "    .dataframe tbody tr th {\n",
       "        vertical-align: top;\n",
       "    }\n",
       "\n",
       "    .dataframe thead tr th {\n",
       "        text-align: left;\n",
       "    }\n",
       "\n",
       "    .dataframe thead tr:last-of-type th {\n",
       "        text-align: right;\n",
       "    }\n",
       "</style>\n",
       "<table border=\"1\" class=\"dataframe\">\n",
       "  <thead>\n",
       "    <tr>\n",
       "      <th></th>\n",
       "      <th colspan=\"3\" halign=\"left\">Nettoexport [TWh]</th>\n",
       "      <th colspan=\"3\" halign=\"left\">Wert Mio €</th>\n",
       "      <th colspan=\"2\" halign=\"left\">Durchschnittspreis [€/MWh]</th>\n",
       "    </tr>\n",
       "    <tr>\n",
       "      <th>+-</th>\n",
       "      <th>0: Import</th>\n",
       "      <th>1: Export</th>\n",
       "      <th>2024</th>\n",
       "      <th>0: Import</th>\n",
       "      <th>1: Export</th>\n",
       "      <th>2024</th>\n",
       "      <th>0: Import</th>\n",
       "      <th>1: Export</th>\n",
       "    </tr>\n",
       "    <tr>\n",
       "      <th>Monat</th>\n",
       "      <th></th>\n",
       "      <th></th>\n",
       "      <th></th>\n",
       "      <th></th>\n",
       "      <th></th>\n",
       "      <th></th>\n",
       "      <th></th>\n",
       "      <th></th>\n",
       "    </tr>\n",
       "  </thead>\n",
       "  <tbody>\n",
       "    <tr>\n",
       "      <th>1</th>\n",
       "      <td>-1.134009</td>\n",
       "      <td>2.727416</td>\n",
       "      <td>1.593407</td>\n",
       "      <td>-109.468334</td>\n",
       "      <td>153.401560</td>\n",
       "      <td>43.933226</td>\n",
       "      <td>96.532177</td>\n",
       "      <td>56.244294</td>\n",
       "    </tr>\n",
       "    <tr>\n",
       "      <th>2</th>\n",
       "      <td>-1.703808</td>\n",
       "      <td>1.916092</td>\n",
       "      <td>0.212284</td>\n",
       "      <td>-126.664725</td>\n",
       "      <td>72.941809</td>\n",
       "      <td>-53.722916</td>\n",
       "      <td>74.342124</td>\n",
       "      <td>38.068005</td>\n",
       "    </tr>\n",
       "    <tr>\n",
       "      <th>3</th>\n",
       "      <td>-2.723841</td>\n",
       "      <td>1.008719</td>\n",
       "      <td>-1.715123</td>\n",
       "      <td>-214.313978</td>\n",
       "      <td>33.724300</td>\n",
       "      <td>-180.589678</td>\n",
       "      <td>78.680782</td>\n",
       "      <td>33.432816</td>\n",
       "    </tr>\n",
       "    <tr>\n",
       "      <th>4</th>\n",
       "      <td>-3.103580</td>\n",
       "      <td>0.779169</td>\n",
       "      <td>-2.324411</td>\n",
       "      <td>-272.950747</td>\n",
       "      <td>1.423913</td>\n",
       "      <td>-271.526835</td>\n",
       "      <td>87.947056</td>\n",
       "      <td>1.827475</td>\n",
       "    </tr>\n",
       "    <tr>\n",
       "      <th>5</th>\n",
       "      <td>-4.105454</td>\n",
       "      <td>0.678305</td>\n",
       "      <td>-3.427149</td>\n",
       "      <td>-367.218140</td>\n",
       "      <td>-11.308225</td>\n",
       "      <td>-378.526365</td>\n",
       "      <td>89.446414</td>\n",
       "      <td>-16.671293</td>\n",
       "    </tr>\n",
       "    <tr>\n",
       "      <th>6</th>\n",
       "      <td>-4.055072</td>\n",
       "      <td>0.492438</td>\n",
       "      <td>-3.562634</td>\n",
       "      <td>-378.533584</td>\n",
       "      <td>-3.923504</td>\n",
       "      <td>-382.457088</td>\n",
       "      <td>93.348178</td>\n",
       "      <td>-7.967512</td>\n",
       "    </tr>\n",
       "    <tr>\n",
       "      <th>7</th>\n",
       "      <td>-4.767093</td>\n",
       "      <td>0.476923</td>\n",
       "      <td>-4.290170</td>\n",
       "      <td>-419.617906</td>\n",
       "      <td>-5.529356</td>\n",
       "      <td>-425.147262</td>\n",
       "      <td>88.023860</td>\n",
       "      <td>-11.593819</td>\n",
       "    </tr>\n",
       "    <tr>\n",
       "      <th>8</th>\n",
       "      <td>-4.784844</td>\n",
       "      <td>0.505738</td>\n",
       "      <td>-4.279106</td>\n",
       "      <td>-492.243474</td>\n",
       "      <td>-5.031528</td>\n",
       "      <td>-497.275003</td>\n",
       "      <td>102.875564</td>\n",
       "      <td>-9.948883</td>\n",
       "    </tr>\n",
       "    <tr>\n",
       "      <th>9</th>\n",
       "      <td>-3.162973</td>\n",
       "      <td>0.553136</td>\n",
       "      <td>-2.609837</td>\n",
       "      <td>-336.588938</td>\n",
       "      <td>5.009270</td>\n",
       "      <td>-331.579668</td>\n",
       "      <td>106.415369</td>\n",
       "      <td>9.056127</td>\n",
       "    </tr>\n",
       "    <tr>\n",
       "      <th>10</th>\n",
       "      <td>-3.740583</td>\n",
       "      <td>0.348937</td>\n",
       "      <td>-3.391646</td>\n",
       "      <td>-377.071172</td>\n",
       "      <td>4.122459</td>\n",
       "      <td>-372.948712</td>\n",
       "      <td>100.805462</td>\n",
       "      <td>11.814328</td>\n",
       "    </tr>\n",
       "    <tr>\n",
       "      <th>11</th>\n",
       "      <td>-2.707387</td>\n",
       "      <td>1.521734</td>\n",
       "      <td>-1.185653</td>\n",
       "      <td>-399.674884</td>\n",
       "      <td>115.197716</td>\n",
       "      <td>-284.477169</td>\n",
       "      <td>147.623847</td>\n",
       "      <td>75.701611</td>\n",
       "    </tr>\n",
       "    <tr>\n",
       "      <th>12</th>\n",
       "      <td>-1.958986</td>\n",
       "      <td>2.147534</td>\n",
       "      <td>0.188549</td>\n",
       "      <td>-405.004888</td>\n",
       "      <td>129.183802</td>\n",
       "      <td>-275.821085</td>\n",
       "      <td>206.742131</td>\n",
       "      <td>60.154471</td>\n",
       "    </tr>\n",
       "    <tr>\n",
       "      <th>2024</th>\n",
       "      <td>-37.947629</td>\n",
       "      <td>13.156141</td>\n",
       "      <td>-24.791488</td>\n",
       "      <td>-3899.350769</td>\n",
       "      <td>489.212216</td>\n",
       "      <td>-3410.138554</td>\n",
       "      <td>102.756109</td>\n",
       "      <td>37.185084</td>\n",
       "    </tr>\n",
       "  </tbody>\n",
       "</table>\n",
       "</div>"
      ],
      "text/plain": [
       "      Nettoexport [TWh]                         Wert Mio €              \\\n",
       "+-            0: Import  1: Export       2024    0: Import   1: Export   \n",
       "Monat                                                                    \n",
       "1             -1.134009   2.727416   1.593407  -109.468334  153.401560   \n",
       "2             -1.703808   1.916092   0.212284  -126.664725   72.941809   \n",
       "3             -2.723841   1.008719  -1.715123  -214.313978   33.724300   \n",
       "4             -3.103580   0.779169  -2.324411  -272.950747    1.423913   \n",
       "5             -4.105454   0.678305  -3.427149  -367.218140  -11.308225   \n",
       "6             -4.055072   0.492438  -3.562634  -378.533584   -3.923504   \n",
       "7             -4.767093   0.476923  -4.290170  -419.617906   -5.529356   \n",
       "8             -4.784844   0.505738  -4.279106  -492.243474   -5.031528   \n",
       "9             -3.162973   0.553136  -2.609837  -336.588938    5.009270   \n",
       "10            -3.740583   0.348937  -3.391646  -377.071172    4.122459   \n",
       "11            -2.707387   1.521734  -1.185653  -399.674884  115.197716   \n",
       "12            -1.958986   2.147534   0.188549  -405.004888  129.183802   \n",
       "2024         -37.947629  13.156141 -24.791488 -3899.350769  489.212216   \n",
       "\n",
       "                   Durchschnittspreis [€/MWh]             \n",
       "+-            2024                  0: Import  1: Export  \n",
       "Monat                                                     \n",
       "1        43.933226                  96.532177  56.244294  \n",
       "2       -53.722916                  74.342124  38.068005  \n",
       "3      -180.589678                  78.680782  33.432816  \n",
       "4      -271.526835                  87.947056   1.827475  \n",
       "5      -378.526365                  89.446414 -16.671293  \n",
       "6      -382.457088                  93.348178  -7.967512  \n",
       "7      -425.147262                  88.023860 -11.593819  \n",
       "8      -497.275003                 102.875564  -9.948883  \n",
       "9      -331.579668                 106.415369   9.056127  \n",
       "10     -372.948712                 100.805462  11.814328  \n",
       "11     -284.477169                 147.623847  75.701611  \n",
       "12     -275.821085                 206.742131  60.154471  \n",
       "2024  -3410.138554                 102.756109  37.185084  "
      ]
     },
     "execution_count": 24,
     "metadata": {},
     "output_type": "execute_result"
    }
   ],
   "source": [
    "Strom"
   ]
  },
  {
   "cell_type": "code",
   "execution_count": 25,
   "id": "c6a97fa6-bafa-491b-bb25-cf4edaf59b5e",
   "metadata": {},
   "outputs": [],
   "source": [
    "datei='Daten entsoe/Realisierte_Erzeugung_202311010000_202502010000_Viertelstunde.csv'\n",
    "Stromerzeugung=pd.read_csv(datei,sep=';', decimal=\",\", thousands=\".\",header=0,na_values='-',on_bad_lines='skip')"
   ]
  },
  {
   "cell_type": "code",
   "execution_count": 27,
   "id": "2aa159b9-183f-4c66-b7a2-79efc0bcff7b",
   "metadata": {},
   "outputs": [],
   "source": [
    "Stromerzeugung['Datum']=pd.to_datetime(Stromerzeugung['Datum von'],format='%d.%m.%Y %H:%M')\n",
    "Stromerzeugung['Datum']=Stromerzeugung['Datum'].dt.tz_localize('Europe/Berlin',ambiguous='infer')\n",
    "Stromerzeugung['Date']=Stromerzeugung['Datum'].dt.tz_convert('UTC')\n",
    "Stromerzeugung=Stromerzeugung[Stromerzeugung['Date'].dt.year==2024]\n",
    "Stromerzeugung=Stromerzeugung.set_index('Date').fillna(0)"
   ]
  },
  {
   "cell_type": "code",
   "execution_count": 31,
   "id": "54c479d4-4e3a-4432-a3f1-15e53ce3fa14",
   "metadata": {},
   "outputs": [],
   "source": [
    "Stromerzeugung=Stromerzeugung.rename(columns={'Wind Offshore [MWh] Originalauflösungen':'Wind Off','Wind Onshore [MWh] Originalauflösungen':'Wind On','Photovoltaik [MWh] Originalauflösungen':'PV'})"
   ]
  },
  {
   "cell_type": "code",
   "execution_count": 65,
   "id": "ff44fca9-ca07-41db-9766-cc081b9a08a0",
   "metadata": {},
   "outputs": [
    {
     "data": {
      "text/plain": [
       "(0.6903129637218921, 43.67912374999577, 63.2743785)"
      ]
     },
     "execution_count": 65,
     "metadata": {},
     "output_type": "execute_result"
    }
   ],
   "source": [
    "pv=Stromerzeugung['PV']/1000000\n",
    "divi=3\n",
    "x=sum(pv)\n",
    "y=sum(np.where(pv>max(pv)/divi,max(pv)/divi,pv))\n",
    "z=y/x\n",
    "z,y,x"
   ]
  },
  {
   "cell_type": "code",
   "execution_count": 59,
   "id": "f2547a5a-5f00-49fa-bbae-468737b44a39",
   "metadata": {},
   "outputs": [
    {
     "data": {
      "text/plain": [
       "54.70061799999507"
      ]
     },
     "execution_count": 59,
     "metadata": {},
     "output_type": "execute_result"
    }
   ],
   "source": [
    "sum(np.where(pv>max(pv)/2,max(pv)/2,pv))"
   ]
  },
  {
   "cell_type": "code",
   "execution_count": 55,
   "id": "5a8ea208-ce1f-4e48-90a0-0688721bfc36",
   "metadata": {},
   "outputs": [
    {
     "data": {
      "text/plain": [
       "11753.0"
      ]
     },
     "execution_count": 55,
     "metadata": {},
     "output_type": "execute_result"
    }
   ],
   "source": [
    "max(Stromerzeugung['PV'])"
   ]
  },
  {
   "cell_type": "code",
   "execution_count": null,
   "id": "753db9b5-66c3-424b-9c09-6d04ed8d0f9f",
   "metadata": {},
   "outputs": [],
   "source": []
  }
 ],
 "metadata": {
  "kernelspec": {
   "display_name": "Python 3 (ipykernel)",
   "language": "python",
   "name": "python3"
  },
  "language_info": {
   "codemirror_mode": {
    "name": "ipython",
    "version": 3
   },
   "file_extension": ".py",
   "mimetype": "text/x-python",
   "name": "python",
   "nbconvert_exporter": "python",
   "pygments_lexer": "ipython3",
   "version": "3.12.5"
  }
 },
 "nbformat": 4,
 "nbformat_minor": 5
}
